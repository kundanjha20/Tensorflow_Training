{
  "nbformat": 4,
  "nbformat_minor": 0,
  "metadata": {
    "colab": {
      "name": "Auto-Regressive_model.ipynb",
      "provenance": [],
      "authorship_tag": "ABX9TyMpaEWh+kyFL3xmK1i/rRmY"
    },
    "kernelspec": {
      "name": "python3",
      "display_name": "Python 3"
    },
    "accelerator": "TPU"
  },
  "cells": [
    {
      "cell_type": "code",
      "metadata": {
        "id": "vXEBHkBdge26",
        "colab_type": "code",
        "colab": {}
      },
      "source": [
        "#importing relevant libraries\n",
        "import tensorflow as tf\n",
        "from tensorflow.keras.layers import Input, Dense\n",
        "from tensorflow.keras.models import Model\n",
        "from tensorflow.keras.optimizers import SGD, Adam\n",
        "import numpy as np\n",
        "import pandas as pd\n",
        "import matplotlib.pyplot as plt\n"
      ],
      "execution_count": 0,
      "outputs": []
    },
    {
      "cell_type": "code",
      "metadata": {
        "id": "xN8dEAa7heBk",
        "colab_type": "code",
        "colab": {
          "base_uri": "https://localhost:8080/",
          "height": 265
        },
        "outputId": "cc3b59ea-d935-425b-cbae-acb1bbd7f7e4"
      },
      "source": [
        "#Synthesizing artifical data\n",
        "series=np.sin(0.1*np.arange(200))\n",
        "plt.plot(series)\n",
        "plt.show()"
      ],
      "execution_count": 3,
      "outputs": [
        {
          "output_type": "display_data",
          "data": {
            "image/png": "[encoded data removed]",
            "text/plain": [
              "<Figure size 432x288 with 1 Axes>"
            ]
          },
          "metadata": {
            "tags": [],
            "needs_background": "light"
          }
        }
      ]
    },
    {
      "cell_type": "code",
      "metadata": {
        "id": "LgCk6bZUhw38",
        "colab_type": "code",
        "colab": {
          "base_uri": "https://localhost:8080/",
          "height": 34
        },
        "outputId": "3a436e49-3c1f-4f9c-f023-0446465b624b"
      },
      "source": [
        "#building the dataset\n",
        "#Lets see if we can use T past values to predict the next value\n",
        "T=10\n",
        "X=[]\n",
        "Y=[]\n",
        "\n",
        "for t in range(len(series) -T):\n",
        "  x=series[t:t+T]     #taking from t upto (t+T -1)  values as past values\n",
        "  X.append(x)\n",
        "  y=series[t+T]       #taking (t+T)th Value as future value\n",
        "  Y.append(y)\n",
        "#print(X)\n",
        "X=np.array(X).reshape(-1,T)\n",
        "Y=np.array(Y)\n",
        "N=len(X)\n",
        "print(str(X.shape)+', ' +str(Y.shape))"
      ],
      "execution_count": 9,
      "outputs": [
        {
          "output_type": "stream",
          "text": [
            "(190, 10), (190,)\n"
          ],
          "name": "stdout"
        }
      ]
    },
    {
      "cell_type": "code",
      "metadata": {
        "id": "kf9VJogekjgZ",
        "colab_type": "code",
        "colab": {
          "base_uri": "https://localhost:8080/",
          "height": 1000
        },
        "outputId": "e9ef161f-a324-4625-cd1f-c12851292a54"
      },
      "source": [
        "#Creating Auto- Regression Model\n",
        "i =Input(shape=(T,))\n",
        "x=Dense(1)(i)   #not classifying so no activation required and only one Hidden layer for now\n",
        "\n",
        "#model part\n",
        "model=Model(i,x)\n",
        "\n",
        "#specifying optimizer and loss for model\n",
        "model.compile(optimizer=Adam(learning_rate=0.1), loss='mse')\n",
        "\n",
        "nby2val=int(-N/2)\n",
        "x_train=X[:nby2val]\n",
        "y_train=Y[:nby2val]\n",
        "x_test=X[nby2val:]\n",
        "y_test=Y[nby2val:]\n",
        "#Training the model\n",
        "r=model.fit(x_train,y_train , epochs=80, validation_data=(x_test,y_test))"
      ],
      "execution_count": 19,
      "outputs": [
        {
          "output_type": "stream",
          "text": [
            "Epoch 1/80\n",
            "3/3 [==============================] - 0s 26ms/step - loss: 0.3442 - val_loss: 0.2939\n",
            "Epoch 2/80\n",
            "3/3 [==============================] - 0s 14ms/step - loss: 0.2345 - val_loss: 0.0561\n",
            "Epoch 3/80\n",
            "3/3 [==============================] - 0s 14ms/step - loss: 0.0811 - val_loss: 0.1035\n",
            "Epoch 4/80\n",
            "3/3 [==============================] - 0s 12ms/step - loss: 0.1050 - val_loss: 6.8128e-04\n",
            "Epoch 5/80\n",
            "3/3 [==============================] - 0s 13ms/step - loss: 0.0224 - val_loss: 0.0559\n",
            "Epoch 6/80\n",
            "3/3 [==============================] - 0s 13ms/step - loss: 0.0647 - val_loss: 0.0111\n",
            "Epoch 7/80\n",
            "3/3 [==============================] - 0s 13ms/step - loss: 0.0148 - val_loss: 0.0558\n",
            "Epoch 8/80\n",
            "3/3 [==============================] - 0s 15ms/step - loss: 0.0408 - val_loss: 0.0091\n",
            "Epoch 9/80\n",
            "3/3 [==============================] - 0s 17ms/step - loss: 0.0061 - val_loss: 0.0258\n",
            "Epoch 10/80\n",
            "3/3 [==============================] - 0s 13ms/step - loss: 0.0257 - val_loss: 0.0105\n",
            "Epoch 11/80\n",
            "3/3 [==============================] - 0s 12ms/step - loss: 0.0057 - val_loss: 0.0090\n",
            "Epoch 12/80\n",
            "3/3 [==============================] - 0s 12ms/step - loss: 0.0123 - val_loss: 0.0016\n",
            "Epoch 13/80\n",
            "3/3 [==============================] - 0s 16ms/step - loss: 0.0020 - val_loss: 0.0047\n",
            "Epoch 14/80\n",
            "3/3 [==============================] - 0s 12ms/step - loss: 0.0061 - val_loss: 6.4294e-04\n",
            "Epoch 15/80\n",
            "3/3 [==============================] - 0s 13ms/step - loss: 0.0017 - val_loss: 0.0048\n",
            "Epoch 16/80\n",
            "3/3 [==============================] - 0s 13ms/step - loss: 0.0037 - val_loss: 1.8342e-04\n",
            "Epoch 17/80\n",
            "3/3 [==============================] - 0s 14ms/step - loss: 0.0012 - val_loss: 0.0040\n",
            "Epoch 18/80\n",
            "3/3 [==============================] - 0s 15ms/step - loss: 0.0020 - val_loss: 3.0709e-04\n",
            "Epoch 19/80\n",
            "3/3 [==============================] - 0s 13ms/step - loss: 0.0013 - val_loss: 0.0012\n",
            "Epoch 20/80\n",
            "3/3 [==============================] - 0s 12ms/step - loss: 7.0993e-04 - val_loss: 4.7957e-04\n",
            "Epoch 21/80\n",
            "3/3 [==============================] - 0s 12ms/step - loss: 0.0010 - val_loss: 3.6623e-04\n",
            "Epoch 22/80\n",
            "3/3 [==============================] - 0s 15ms/step - loss: 3.1893e-04 - val_loss: 6.4494e-04\n",
            "Epoch 23/80\n",
            "3/3 [==============================] - 0s 14ms/step - loss: 4.3786e-04 - val_loss: 2.6608e-05\n",
            "Epoch 24/80\n",
            "3/3 [==============================] - 0s 13ms/step - loss: 1.6224e-04 - val_loss: 5.2095e-04\n",
            "Epoch 25/80\n",
            "3/3 [==============================] - 0s 12ms/step - loss: 2.2039e-04 - val_loss: 3.7640e-05\n",
            "Epoch 26/80\n",
            "3/3 [==============================] - 0s 12ms/step - loss: 1.4436e-04 - val_loss: 9.0116e-05\n",
            "Epoch 27/80\n",
            "3/3 [==============================] - 0s 13ms/step - loss: 5.2784e-05 - val_loss: 8.8766e-05\n",
            "Epoch 28/80\n",
            "3/3 [==============================] - 0s 13ms/step - loss: 1.3405e-04 - val_loss: 1.7714e-05\n",
            "Epoch 29/80\n",
            "3/3 [==============================] - 0s 12ms/step - loss: 4.8868e-05 - val_loss: 7.0853e-05\n",
            "Epoch 30/80\n",
            "3/3 [==============================] - 0s 13ms/step - loss: 4.2706e-05 - val_loss: 5.7174e-05\n",
            "Epoch 31/80\n",
            "3/3 [==============================] - 0s 14ms/step - loss: 4.6593e-05 - val_loss: 1.1843e-05\n",
            "Epoch 32/80\n",
            "3/3 [==============================] - 0s 15ms/step - loss: 1.4112e-05 - val_loss: 2.9064e-05\n",
            "Epoch 33/80\n",
            "3/3 [==============================] - 0s 14ms/step - loss: 1.4854e-05 - val_loss: 6.9402e-06\n",
            "Epoch 34/80\n",
            "3/3 [==============================] - 0s 12ms/step - loss: 1.6808e-05 - val_loss: 3.2883e-06\n",
            "Epoch 35/80\n",
            "3/3 [==============================] - 0s 12ms/step - loss: 7.1917e-06 - val_loss: 8.2779e-06\n",
            "Epoch 36/80\n",
            "3/3 [==============================] - 0s 12ms/step - loss: 4.8992e-06 - val_loss: 7.8300e-06\n",
            "Epoch 37/80\n",
            "3/3 [==============================] - 0s 12ms/step - loss: 6.2609e-06 - val_loss: 1.1741e-06\n",
            "Epoch 38/80\n",
            "3/3 [==============================] - 0s 11ms/step - loss: 2.5003e-06 - val_loss: 3.6593e-06\n",
            "Epoch 39/80\n",
            "3/3 [==============================] - 0s 12ms/step - loss: 1.7893e-06 - val_loss: 1.6089e-06\n",
            "Epoch 40/80\n",
            "3/3 [==============================] - 0s 13ms/step - loss: 2.2982e-06 - val_loss: 1.4516e-07\n",
            "Epoch 41/80\n",
            "3/3 [==============================] - 0s 14ms/step - loss: 7.9417e-07 - val_loss: 8.3512e-07\n",
            "Epoch 42/80\n",
            "3/3 [==============================] - 0s 15ms/step - loss: 9.1211e-07 - val_loss: 2.0811e-06\n",
            "Epoch 43/80\n",
            "3/3 [==============================] - 0s 13ms/step - loss: 1.0172e-06 - val_loss: 7.9720e-08\n",
            "Epoch 44/80\n",
            "3/3 [==============================] - 0s 13ms/step - loss: 5.8329e-07 - val_loss: 6.9588e-07\n",
            "Epoch 45/80\n",
            "3/3 [==============================] - 0s 12ms/step - loss: 3.7811e-07 - val_loss: 3.3745e-07\n",
            "Epoch 46/80\n",
            "3/3 [==============================] - 0s 12ms/step - loss: 2.5022e-07 - val_loss: 1.3314e-07\n",
            "Epoch 47/80\n",
            "3/3 [==============================] - 0s 12ms/step - loss: 2.5821e-07 - val_loss: 7.9651e-08\n",
            "Epoch 48/80\n",
            "3/3 [==============================] - 0s 16ms/step - loss: 1.5324e-07 - val_loss: 1.2154e-07\n",
            "Epoch 49/80\n",
            "3/3 [==============================] - 0s 16ms/step - loss: 6.2130e-08 - val_loss: 2.1779e-07\n",
            "Epoch 50/80\n",
            "3/3 [==============================] - 0s 13ms/step - loss: 1.1728e-07 - val_loss: 3.8839e-08\n",
            "Epoch 51/80\n",
            "3/3 [==============================] - 0s 15ms/step - loss: 7.2430e-08 - val_loss: 1.6252e-09\n",
            "Epoch 52/80\n",
            "3/3 [==============================] - 0s 13ms/step - loss: 3.2102e-08 - val_loss: 2.0602e-08\n",
            "Epoch 53/80\n",
            "3/3 [==============================] - 0s 13ms/step - loss: 3.1006e-08 - val_loss: 4.4460e-08\n",
            "Epoch 54/80\n",
            "3/3 [==============================] - 0s 12ms/step - loss: 2.0364e-08 - val_loss: 2.8486e-08\n",
            "Epoch 55/80\n",
            "3/3 [==============================] - 0s 13ms/step - loss: 2.1173e-08 - val_loss: 3.8920e-09\n",
            "Epoch 56/80\n",
            "3/3 [==============================] - 0s 13ms/step - loss: 8.8846e-09 - val_loss: 3.5921e-09\n",
            "Epoch 57/80\n",
            "3/3 [==============================] - 0s 13ms/step - loss: 4.4278e-09 - val_loss: 7.8939e-09\n",
            "Epoch 58/80\n",
            "3/3 [==============================] - 0s 16ms/step - loss: 6.1667e-09 - val_loss: 7.5484e-09\n",
            "Epoch 59/80\n",
            "3/3 [==============================] - 0s 14ms/step - loss: 5.6802e-09 - val_loss: 9.9081e-10\n",
            "Epoch 60/80\n",
            "3/3 [==============================] - 0s 12ms/step - loss: 3.5044e-09 - val_loss: 2.5966e-09\n",
            "Epoch 61/80\n",
            "3/3 [==============================] - 0s 15ms/step - loss: 1.8813e-09 - val_loss: 2.3145e-09\n",
            "Epoch 62/80\n",
            "3/3 [==============================] - 0s 13ms/step - loss: 1.2892e-09 - val_loss: 1.7668e-09\n",
            "Epoch 63/80\n",
            "3/3 [==============================] - 0s 12ms/step - loss: 2.0924e-09 - val_loss: 7.8174e-10\n",
            "Epoch 64/80\n",
            "3/3 [==============================] - 0s 14ms/step - loss: 1.3294e-09 - val_loss: 1.9480e-10\n",
            "Epoch 65/80\n",
            "3/3 [==============================] - 0s 14ms/step - loss: 1.0047e-09 - val_loss: 1.0091e-09\n",
            "Epoch 66/80\n",
            "3/3 [==============================] - 0s 14ms/step - loss: 5.0476e-10 - val_loss: 8.6073e-10\n",
            "Epoch 67/80\n",
            "3/3 [==============================] - 0s 13ms/step - loss: 4.2705e-10 - val_loss: 4.3097e-10\n",
            "Epoch 68/80\n",
            "3/3 [==============================] - 0s 14ms/step - loss: 4.5180e-10 - val_loss: 1.6505e-10\n",
            "Epoch 69/80\n",
            "3/3 [==============================] - 0s 13ms/step - loss: 2.9162e-10 - val_loss: 1.0952e-10\n",
            "Epoch 70/80\n",
            "3/3 [==============================] - 0s 15ms/step - loss: 2.4076e-10 - val_loss: 1.2101e-10\n",
            "Epoch 71/80\n",
            "3/3 [==============================] - 0s 13ms/step - loss: 9.6576e-11 - val_loss: 2.1877e-10\n",
            "Epoch 72/80\n",
            "3/3 [==============================] - 0s 12ms/step - loss: 1.1295e-10 - val_loss: 1.1697e-10\n",
            "Epoch 73/80\n",
            "3/3 [==============================] - 0s 14ms/step - loss: 9.4573e-11 - val_loss: 5.3127e-11\n",
            "Epoch 74/80\n",
            "3/3 [==============================] - 0s 12ms/step - loss: 7.8034e-11 - val_loss: 4.6206e-11\n",
            "Epoch 75/80\n",
            "3/3 [==============================] - 0s 12ms/step - loss: 4.4128e-11 - val_loss: 2.2186e-12\n",
            "Epoch 76/80\n",
            "3/3 [==============================] - 0s 13ms/step - loss: 2.4247e-11 - val_loss: 4.0105e-11\n",
            "Epoch 77/80\n",
            "3/3 [==============================] - 0s 12ms/step - loss: 2.2135e-11 - val_loss: 2.6694e-11\n",
            "Epoch 78/80\n",
            "3/3 [==============================] - 0s 13ms/step - loss: 1.5288e-11 - val_loss: 1.7101e-11\n",
            "Epoch 79/80\n",
            "3/3 [==============================] - 0s 12ms/step - loss: 1.4478e-11 - val_loss: 1.1875e-11\n",
            "Epoch 80/80\n",
            "3/3 [==============================] - 0s 14ms/step - loss: 9.6953e-12 - val_loss: 3.9922e-12\n"
          ],
          "name": "stdout"
        }
      ]
    },
    {
      "cell_type": "code",
      "metadata": {
        "id": "tXgseYXgnkyF",
        "colab_type": "code",
        "colab": {
          "base_uri": "https://localhost:8080/",
          "height": 282
        },
        "outputId": "e0896792-7f75-48dd-bb79-f6c258e1b01e"
      },
      "source": [
        "#Plotting loss per iteration\n",
        "plt.plot(r.history['loss'], label='loss')\n",
        "plt.plot(r.history['val_loss'], label='val_loss')\n",
        "plt.legend()"
      ],
      "execution_count": 18,
      "outputs": [
        {
          "output_type": "execute_result",
          "data": {
            "text/plain": [
              "<matplotlib.legend.Legend at 0x7f3de8c774a8>"
            ]
          },
          "metadata": {
            "tags": []
          },
          "execution_count": 18
        },
        {
          "output_type": "display_data",
          "data": {
            "image/png": "[encoded data removed]",
            "text/plain": [
              "<Figure size 432x288 with 1 Axes>"
            ]
          },
          "metadata": {
            "tags": [],
            "needs_background": "light"
          }
        }
      ]
    },
    {
      "cell_type": "code",
      "metadata": {
        "id": "QUn0iHhvoABL",
        "colab_type": "code",
        "colab": {}
      },
      "source": [
        "#Plotting accuracy per iteration\n",
        "predicted_y=[]\n",
        "#print(Y.shape)\n",
        "for  n in x_test:\n",
        "  #print((n.reshape(1,-1)).shape)\n",
        "  if len(predicted_y)<len(y_test):\n",
        "    predicted_y.append(model.predict(n.reshape(1,-1))[0,0])\n",
        "\n"
      ],
      "execution_count": 0,
      "outputs": []
    },
    {
      "cell_type": "code",
      "metadata": {
        "id": "tIfo7UOXvAAC",
        "colab_type": "code",
        "colab": {
          "base_uri": "https://localhost:8080/",
          "height": 282
        },
        "outputId": "9f40e351-39b0-4dff-a2e9-c979f2b10a2b"
      },
      "source": [
        "#Plotting y_test, predicted_y\n",
        "plt.plot(y_test,label='actual Y')\n",
        "plt.plot(predicted_y,label='predicted_y')\n",
        "plt.legend()"
      ],
      "execution_count": 47,
      "outputs": [
        {
          "output_type": "execute_result",
          "data": {
            "text/plain": [
              "<matplotlib.legend.Legend at 0x7f3de8c97f28>"
            ]
          },
          "metadata": {
            "tags": []
          },
          "execution_count": 47
        },
        {
          "output_type": "display_data",
          "data": {
            "image/png": "[encoded data removed]",
            "text/plain": [
              "<Figure size 432x288 with 1 Axes>"
            ]
          },
          "metadata": {
            "tags": [],
            "needs_background": "light"
          }
        }
      ]
    },
    {
      "cell_type": "code",
      "metadata": {
        "id": "UlSCeUhAwIIk",
        "colab_type": "code",
        "colab": {}
      },
      "source": [
        "#Plotting correct method\n",
        "predicted_y=[]\n",
        "last_x=X[int(-N/2)]\n",
        "while len(predicted_y)<len(y_test):\n",
        "  p=model.predict(last_x.reshape(1,-1))[0,0]\n",
        "  predicted_y.append(p)\n",
        "  last_x=np.roll(last_x,-1)\n",
        "  last_x[-1]=p\n",
        "\n"
      ],
      "execution_count": 0,
      "outputs": []
    },
    {
      "cell_type": "code",
      "metadata": {
        "id": "B-17lyDGyAbr",
        "colab_type": "code",
        "colab": {
          "base_uri": "https://localhost:8080/",
          "height": 34
        },
        "outputId": "23a67ef2-aff9-470a-d719-4d1465936bae"
      },
      "source": [
        "#Sample prediction\n",
        "# samplet data-0.27176063, -0.36647913, -0.45753589, -0.54402111,-0.62507065,-0.69987469,-0.76768581,-0.82782647,-0.17432678,-0.27176063,-0.36647913,\n",
        "x2=[[-0.27176063, -0.36647913, -0.45753589, -0.54402111,-0.62507065,-0.69987469,-0.76768581,-0.82782647,-0.17432678,-0.27176063]]\n",
        "x2=np.array(x2)\n",
        "y2=model.predict(x2)\n",
        "y2"
      ],
      "execution_count": 63,
      "outputs": [
        {
          "output_type": "execute_result",
          "data": {
            "text/plain": [
              "array([[-0.37970278]], dtype=float32)"
            ]
          },
          "metadata": {
            "tags": []
          },
          "execution_count": 63
        }
      ]
    }
  ]
}