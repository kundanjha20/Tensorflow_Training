{
  "nbformat": 4,
  "nbformat_minor": 0,
  "metadata": {
    "colab": {
      "name": "Spam Classifier using LSTM and CNN",
      "provenance": [],
      "authorship_tag": "ABX9TyOjKBe9SMpMypL978ztp/iY"
    },
    "kernelspec": {
      "name": "python3",
      "display_name": "Python 3"
    },
    "accelerator": "GPU"
  },
  "cells": [
    {
      "cell_type": "code",
      "metadata": {
        "id": "CiWFYRLJzqSJ",
        "colab_type": "code",
        "colab": {}
      },
      "source": [
        "#Text classification using RNN and CNN \n",
        "import tensorflow as tf\n",
        "from tensorflow.keras.layers import Dense, Input, GlobalMaxPooling1D, LSTM, MaxPooling1D, Conv1D, Embedding\n",
        "from tensorflow.keras.models import Model\n",
        "import pandas as pd\n",
        "import numpy as np\n",
        "import matplotlib.pyplot as  plt\n",
        "from sklearn.model_selection import train_test_split\n",
        "from tensorflow.keras.preprocessing.sequence import pad_sequences\n",
        "from tensorflow.keras.preprocessing.text import Tokenizer"
      ],
      "execution_count": 1,
      "outputs": []
    },
    {
      "cell_type": "code",
      "metadata": {
        "id": "9kseY6pwzw9Z",
        "colab_type": "code",
        "colab": {
          "base_uri": "https://localhost:8080/",
          "height": 204
        },
        "outputId": "c4d37b84-41a0-467b-95e1-8b240b2bad96"
      },
      "source": [
        "#Downloading dataset\n",
        "!wget https://lazyprogrammer.me/course_files/spam.csv"
      ],
      "execution_count": 2,
      "outputs": [
        {
          "output_type": "stream",
          "text": [
            "--2020-06-20 14:24:57--  https://lazyprogrammer.me/course_files/spam.csv\n",
            "Resolving lazyprogrammer.me (lazyprogrammer.me)... 104.31.80.48, 172.67.213.166, 104.31.81.48, ...\n",
            "Connecting to lazyprogrammer.me (lazyprogrammer.me)|104.31.80.48|:443... connected.\n",
            "HTTP request sent, awaiting response... 200 OK\n",
            "Length: 503663 (492K) [text/csv]\n",
            "Saving to: ‘spam.csv.1’\n",
            "\n",
            "\rspam.csv.1            0%[                    ]       0  --.-KB/s               \rspam.csv.1          100%[===================>] 491.86K  --.-KB/s    in 0.03s   \n",
            "\n",
            "2020-06-20 14:24:57 (14.6 MB/s) - ‘spam.csv.1’ saved [503663/503663]\n",
            "\n"
          ],
          "name": "stdout"
        }
      ]
    },
    {
      "cell_type": "code",
      "metadata": {
        "id": "gF9RXX2m1xro",
        "colab_type": "code",
        "colab": {
          "base_uri": "https://localhost:8080/",
          "height": 34
        },
        "outputId": "12c5c719-4a28-4e69-ed12-2a4d55e6278d"
      },
      "source": [
        "#listing the directory\n",
        "!ls"
      ],
      "execution_count": 3,
      "outputs": [
        {
          "output_type": "stream",
          "text": [
            "sample_data  spam.csv  spam.csv.1\n"
          ],
          "name": "stdout"
        }
      ]
    },
    {
      "cell_type": "code",
      "metadata": {
        "id": "SvFmLPOr1_tF",
        "colab_type": "code",
        "colab": {
          "base_uri": "https://localhost:8080/",
          "height": 204
        },
        "outputId": "a6a2d676-fa28-4e8b-c93f-6dae161744b7"
      },
      "source": [
        "data=pd.read_csv('spam.csv', encoding='ISO-8859-1')\n",
        "data.head()"
      ],
      "execution_count": 4,
      "outputs": [
        {
          "output_type": "execute_result",
          "data": {
            "text/html": [
              "<div>\n",
              "<style scoped>\n",
              "    .dataframe tbody tr th:only-of-type {\n",
              "        vertical-align: middle;\n",
              "    }\n",
              "\n",
              "    .dataframe tbody tr th {\n",
              "        vertical-align: top;\n",
              "    }\n",
              "\n",
              "    .dataframe thead th {\n",
              "        text-align: right;\n",
              "    }\n",
              "</style>\n",
              "<table border=\"1\" class=\"dataframe\">\n",
              "  <thead>\n",
              "    <tr style=\"text-align: right;\">\n",
              "      <th></th>\n",
              "      <th>v1</th>\n",
              "      <th>v2</th>\n",
              "      <th>Unnamed: 2</th>\n",
              "      <th>Unnamed: 3</th>\n",
              "      <th>Unnamed: 4</th>\n",
              "    </tr>\n",
              "  </thead>\n",
              "  <tbody>\n",
              "    <tr>\n",
              "      <th>0</th>\n",
              "      <td>ham</td>\n",
              "      <td>Go until jurong point, crazy.. Available only ...</td>\n",
              "      <td>NaN</td>\n",
              "      <td>NaN</td>\n",
              "      <td>NaN</td>\n",
              "    </tr>\n",
              "    <tr>\n",
              "      <th>1</th>\n",
              "      <td>ham</td>\n",
              "      <td>Ok lar... Joking wif u oni...</td>\n",
              "      <td>NaN</td>\n",
              "      <td>NaN</td>\n",
              "      <td>NaN</td>\n",
              "    </tr>\n",
              "    <tr>\n",
              "      <th>2</th>\n",
              "      <td>spam</td>\n",
              "      <td>Free entry in 2 a wkly comp to win FA Cup fina...</td>\n",
              "      <td>NaN</td>\n",
              "      <td>NaN</td>\n",
              "      <td>NaN</td>\n",
              "    </tr>\n",
              "    <tr>\n",
              "      <th>3</th>\n",
              "      <td>ham</td>\n",
              "      <td>U dun say so early hor... U c already then say...</td>\n",
              "      <td>NaN</td>\n",
              "      <td>NaN</td>\n",
              "      <td>NaN</td>\n",
              "    </tr>\n",
              "    <tr>\n",
              "      <th>4</th>\n",
              "      <td>ham</td>\n",
              "      <td>Nah I don't think he goes to usf, he lives aro...</td>\n",
              "      <td>NaN</td>\n",
              "      <td>NaN</td>\n",
              "      <td>NaN</td>\n",
              "    </tr>\n",
              "  </tbody>\n",
              "</table>\n",
              "</div>"
            ],
            "text/plain": [
              "     v1  ... Unnamed: 4\n",
              "0   ham  ...        NaN\n",
              "1   ham  ...        NaN\n",
              "2  spam  ...        NaN\n",
              "3   ham  ...        NaN\n",
              "4   ham  ...        NaN\n",
              "\n",
              "[5 rows x 5 columns]"
            ]
          },
          "metadata": {
            "tags": []
          },
          "execution_count": 4
        }
      ]
    },
    {
      "cell_type": "code",
      "metadata": {
        "id": "R-MoauM82OSk",
        "colab_type": "code",
        "colab": {
          "base_uri": "https://localhost:8080/",
          "height": 306
        },
        "outputId": "8d1d0713-40c7-476c-a76f-194bc113c83a"
      },
      "source": [
        "#Getting rid of unuseful data\n",
        "data_new=data[['v1', 'v2']]\n",
        "new_cols=['class','content']\n",
        "data_new.columns=new_cols\n",
        "data_new['class']=data_new['class'].map({'ham':0,'spam':1})\n",
        "data_new.head()"
      ],
      "execution_count": 5,
      "outputs": [
        {
          "output_type": "stream",
          "text": [
            "/usr/local/lib/python3.6/dist-packages/ipykernel_launcher.py:5: SettingWithCopyWarning: \n",
            "A value is trying to be set on a copy of a slice from a DataFrame.\n",
            "Try using .loc[row_indexer,col_indexer] = value instead\n",
            "\n",
            "See the caveats in the documentation: https://pandas.pydata.org/pandas-docs/stable/user_guide/indexing.html#returning-a-view-versus-a-copy\n",
            "  \"\"\"\n"
          ],
          "name": "stderr"
        },
        {
          "output_type": "execute_result",
          "data": {
            "text/html": [
              "<div>\n",
              "<style scoped>\n",
              "    .dataframe tbody tr th:only-of-type {\n",
              "        vertical-align: middle;\n",
              "    }\n",
              "\n",
              "    .dataframe tbody tr th {\n",
              "        vertical-align: top;\n",
              "    }\n",
              "\n",
              "    .dataframe thead th {\n",
              "        text-align: right;\n",
              "    }\n",
              "</style>\n",
              "<table border=\"1\" class=\"dataframe\">\n",
              "  <thead>\n",
              "    <tr style=\"text-align: right;\">\n",
              "      <th></th>\n",
              "      <th>class</th>\n",
              "      <th>content</th>\n",
              "    </tr>\n",
              "  </thead>\n",
              "  <tbody>\n",
              "    <tr>\n",
              "      <th>0</th>\n",
              "      <td>0</td>\n",
              "      <td>Go until jurong point, crazy.. Available only ...</td>\n",
              "    </tr>\n",
              "    <tr>\n",
              "      <th>1</th>\n",
              "      <td>0</td>\n",
              "      <td>Ok lar... Joking wif u oni...</td>\n",
              "    </tr>\n",
              "    <tr>\n",
              "      <th>2</th>\n",
              "      <td>1</td>\n",
              "      <td>Free entry in 2 a wkly comp to win FA Cup fina...</td>\n",
              "    </tr>\n",
              "    <tr>\n",
              "      <th>3</th>\n",
              "      <td>0</td>\n",
              "      <td>U dun say so early hor... U c already then say...</td>\n",
              "    </tr>\n",
              "    <tr>\n",
              "      <th>4</th>\n",
              "      <td>0</td>\n",
              "      <td>Nah I don't think he goes to usf, he lives aro...</td>\n",
              "    </tr>\n",
              "  </tbody>\n",
              "</table>\n",
              "</div>"
            ],
            "text/plain": [
              "   class                                            content\n",
              "0      0  Go until jurong point, crazy.. Available only ...\n",
              "1      0                      Ok lar... Joking wif u oni...\n",
              "2      1  Free entry in 2 a wkly comp to win FA Cup fina...\n",
              "3      0  U dun say so early hor... U c already then say...\n",
              "4      0  Nah I don't think he goes to usf, he lives aro..."
            ]
          },
          "metadata": {
            "tags": []
          },
          "execution_count": 5
        }
      ]
    },
    {
      "cell_type": "code",
      "metadata": {
        "id": "9iVs5ylB4zZF",
        "colab_type": "code",
        "colab": {
          "base_uri": "https://localhost:8080/",
          "height": 34
        },
        "outputId": "683d80c0-4b40-4123-8d61-aa883a3194bd"
      },
      "source": [
        "#Getting X and Y\n",
        "\n",
        "Y=data_new['class'].values\n",
        "X=data_new['content'].values\n",
        "print(X.shape)"
      ],
      "execution_count": 6,
      "outputs": [
        {
          "output_type": "stream",
          "text": [
            "(5572,)\n"
          ],
          "name": "stdout"
        }
      ]
    },
    {
      "cell_type": "code",
      "metadata": {
        "id": "iyaHCU2n5qcT",
        "colab_type": "code",
        "colab": {}
      },
      "source": [
        "#splitting into training and testing \n",
        "x_train,x_test,y_train,y_test=train_test_split(X,Y,test_size=0.33)"
      ],
      "execution_count": 7,
      "outputs": []
    },
    {
      "cell_type": "code",
      "metadata": {
        "id": "7gBrydPK6i2D",
        "colab_type": "code",
        "colab": {}
      },
      "source": [
        "#converting the sequence into tokens\n",
        "MAX_VOCAB_SIZE=20000\n",
        "tokenizer=Tokenizer(num_words=MAX_VOCAB_SIZE)\n",
        "tokenizer.fit_on_texts(x_train)\n",
        "seqence_train=tokenizer.texts_to_sequences(x_train)\n",
        "seqence_test=tokenizer.texts_to_sequences(x_test)"
      ],
      "execution_count": 8,
      "outputs": []
    },
    {
      "cell_type": "code",
      "metadata": {
        "id": "zoBnAjI07b9_",
        "colab_type": "code",
        "colab": {
          "base_uri": "https://localhost:8080/",
          "height": 34
        },
        "outputId": "a21fd01d-0e4c-4131-ee0b-99858141ebf5"
      },
      "source": [
        "#Get word ----> Integer_mapping\n",
        "word2idx=tokenizer.word_index\n",
        "V=len(word2idx)\n",
        "print(\"No. of uniue tokens is : {}\".format(V))"
      ],
      "execution_count": 9,
      "outputs": [
        {
          "output_type": "stream",
          "text": [
            "No. of uniue tokens is : 7269\n"
          ],
          "name": "stdout"
        }
      ]
    },
    {
      "cell_type": "code",
      "metadata": {
        "id": "K4BysdFk7_Tb",
        "colab_type": "code",
        "colab": {
          "base_uri": "https://localhost:8080/",
          "height": 34
        },
        "outputId": "0ba10133-8456-4724-8e87-215795199b6d"
      },
      "source": [
        "#Pad sequences so that we get a NXT matrix\n",
        "data_train=pad_sequences(seqence_train)\n",
        "print('shape of data_train sequence:', data_train.shape)"
      ],
      "execution_count": 10,
      "outputs": [
        {
          "output_type": "stream",
          "text": [
            "shape of data_train sequence: (3733, 189)\n"
          ],
          "name": "stdout"
        }
      ]
    },
    {
      "cell_type": "code",
      "metadata": {
        "id": "gvMQAdBQ9rTs",
        "colab_type": "code",
        "colab": {
          "base_uri": "https://localhost:8080/",
          "height": 34
        },
        "outputId": "f89c8034-e77a-44a9-9578-13f13efd9ed1"
      },
      "source": [
        "#Get the sequence legnth\n",
        "T=data_train.shape[1]\n",
        "print('shape of each sequence is :', T)"
      ],
      "execution_count": 11,
      "outputs": [
        {
          "output_type": "stream",
          "text": [
            "shape of each sequence is : 189\n"
          ],
          "name": "stdout"
        }
      ]
    },
    {
      "cell_type": "code",
      "metadata": {
        "id": "mH1LhD669-Fm",
        "colab_type": "code",
        "colab": {
          "base_uri": "https://localhost:8080/",
          "height": 34
        },
        "outputId": "74835450-34d7-4503-9006-774f7fe93f75"
      },
      "source": [
        "#Padding test data\n",
        "data_test=pad_sequences(seqence_test, maxlen=T)\n",
        "print('shape of test sequence: ',data_test.shape)"
      ],
      "execution_count": 12,
      "outputs": [
        {
          "output_type": "stream",
          "text": [
            "shape of test sequence:  (1839, 189)\n"
          ],
          "name": "stdout"
        }
      ]
    },
    {
      "cell_type": "code",
      "metadata": {
        "id": "3MWI_ypV_jW5",
        "colab_type": "code",
        "colab": {
          "base_uri": "https://localhost:8080/",
          "height": 357
        },
        "outputId": "1b09ac11-f8bf-486a-e1cf-b43e279e8712"
      },
      "source": [
        "#Creating the model using LSTM\n",
        "\n",
        "D=20   #Choosing embedding dimensionality\n",
        "\n",
        "M=15 #Hidden layer dimensionality for LSTM\n",
        "\n",
        "i=Input(shape=(T,))\n",
        "x=Embedding(V+1,D)(i)\n",
        "x=LSTM(M,return_sequences=True)(x)\n",
        "x=GlobalMaxPooling1D()(x)\n",
        "x=Dense(1,activation='sigmoid')(x)\n",
        "\n",
        "model=Model(i,x)\n",
        "\n",
        "model.compile(optimizer='adam', loss='binary_crossentropy', metrics=['accuracy'])\n",
        "r1=model.fit(data_train,y_train,epochs=10,validation_data=(data_test,y_test))\n",
        "\n"
      ],
      "execution_count": 39,
      "outputs": [
        {
          "output_type": "stream",
          "text": [
            "Epoch 1/10\n",
            "117/117 [==============================] - 2s 17ms/step - loss: 0.4532 - accuracy: 0.8661 - val_loss: 0.3673 - val_accuracy: 0.8657\n",
            "Epoch 2/10\n",
            "117/117 [==============================] - 1s 13ms/step - loss: 0.3344 - accuracy: 0.8661 - val_loss: 0.3085 - val_accuracy: 0.8657\n",
            "Epoch 3/10\n",
            "117/117 [==============================] - 2s 13ms/step - loss: 0.2660 - accuracy: 0.8661 - val_loss: 0.2145 - val_accuracy: 0.8657\n",
            "Epoch 4/10\n",
            "117/117 [==============================] - 2s 13ms/step - loss: 0.1564 - accuracy: 0.9577 - val_loss: 0.1405 - val_accuracy: 0.9826\n",
            "Epoch 5/10\n",
            "117/117 [==============================] - 2s 13ms/step - loss: 0.0956 - accuracy: 0.9871 - val_loss: 0.1036 - val_accuracy: 0.9837\n",
            "Epoch 6/10\n",
            "117/117 [==============================] - 2s 13ms/step - loss: 0.0661 - accuracy: 0.9914 - val_loss: 0.0917 - val_accuracy: 0.9848\n",
            "Epoch 7/10\n",
            "117/117 [==============================] - 1s 13ms/step - loss: 0.0497 - accuracy: 0.9944 - val_loss: 0.0815 - val_accuracy: 0.9810\n",
            "Epoch 8/10\n",
            "117/117 [==============================] - 2s 13ms/step - loss: 0.0398 - accuracy: 0.9954 - val_loss: 0.0769 - val_accuracy: 0.9826\n",
            "Epoch 9/10\n",
            "117/117 [==============================] - 1s 13ms/step - loss: 0.0303 - accuracy: 0.9971 - val_loss: 0.0787 - val_accuracy: 0.9826\n",
            "Epoch 10/10\n",
            "117/117 [==============================] - 2s 13ms/step - loss: 0.0229 - accuracy: 0.9989 - val_loss: 0.0737 - val_accuracy: 0.9821\n"
          ],
          "name": "stdout"
        }
      ]
    },
    {
      "cell_type": "code",
      "metadata": {
        "id": "-JOgOwfSBpCt",
        "colab_type": "code",
        "colab": {
          "base_uri": "https://localhost:8080/",
          "height": 284
        },
        "outputId": "2bb18357-3c98-4ca6-9815-d69656d59cfc"
      },
      "source": [
        "#Plotting loss per iteration curve\n",
        "plt.plot(r1.history['loss'],label='loss')\n",
        "plt.plot(r1.history['val_loss'], label='val_loss')\n",
        "plt.legend()"
      ],
      "execution_count": 14,
      "outputs": [
        {
          "output_type": "execute_result",
          "data": {
            "text/plain": [
              "<matplotlib.legend.Legend at 0x7f1156abde10>"
            ]
          },
          "metadata": {
            "tags": []
          },
          "execution_count": 14
        },
        {
          "output_type": "display_data",
          "data": {
            "image/png": "[encoded data removed]",
            "text/plain": [
              "<Figure size 432x288 with 1 Axes>"
            ]
          },
          "metadata": {
            "tags": [],
            "needs_background": "light"
          }
        }
      ]
    },
    {
      "cell_type": "code",
      "metadata": {
        "id": "4GhpPsnjCDNd",
        "colab_type": "code",
        "colab": {
          "base_uri": "https://localhost:8080/",
          "height": 282
        },
        "outputId": "743908b7-bf8b-476d-c48d-9861826ffa0e"
      },
      "source": [
        "#plotting accuracy per iteration\n",
        "plt.plot(r1.history['accuracy'], label='accuaracy')\n",
        "plt.plot(r1.history['val_accuracy'], label='val_accuracy')\n",
        "plt.legend()"
      ],
      "execution_count": 15,
      "outputs": [
        {
          "output_type": "execute_result",
          "data": {
            "text/plain": [
              "<matplotlib.legend.Legend at 0x7f1157357cc0>"
            ]
          },
          "metadata": {
            "tags": []
          },
          "execution_count": 15
        },
        {
          "output_type": "display_data",
          "data": {
            "image/png": "[encoded data removed]",
            "text/plain": [
              "<Figure size 432x288 with 1 Axes>"
            ]
          },
          "metadata": {
            "tags": [],
            "needs_background": "light"
          }
        }
      ]
    },
    {
      "cell_type": "code",
      "metadata": {
        "id": "2d_AOoGNCWQo",
        "colab_type": "code",
        "colab": {
          "base_uri": "https://localhost:8080/",
          "height": 357
        },
        "outputId": "dbdafcce-ed7c-40ae-c4d9-352f3c572e0e"
      },
      "source": [
        "#Creating Model using CNN\n",
        "\n",
        "D_CNN=20 #Input layer dimension\n",
        "\n",
        "i2=Input(shape=(T,))\n",
        "x2=Embedding(V+1,D)(i2)\n",
        "x2=Conv1D(32,3,activation='relu')(x2)\n",
        "x2=MaxPooling1D(3)(x2)\n",
        "x2=Conv1D(64,3,activation='relu')(x2)\n",
        "x2=MaxPooling1D(3)(x2)\n",
        "x2=Conv1D(128,3,activation='relu')(x2)\n",
        "x2=GlobalMaxPooling1D()(x2)\n",
        "x2=Dense(1,activation='sigmoid')(x2)\n",
        "\n",
        "model_cnn=Model(i2,x2)\n",
        "model_cnn.compile(optimizer='adam',loss='binary_crossentropy',metrics=['accuracy'])\n",
        "r2=model_cnn.fit(data_train,y_train,epochs=10,validation_data=(data_test,y_test))\n"
      ],
      "execution_count": 49,
      "outputs": [
        {
          "output_type": "stream",
          "text": [
            "Epoch 1/10\n",
            "117/117 [==============================] - 1s 8ms/step - loss: 0.3891 - accuracy: 0.8615 - val_loss: 0.2577 - val_accuracy: 0.8657\n",
            "Epoch 2/10\n",
            "117/117 [==============================] - 1s 7ms/step - loss: 0.1200 - accuracy: 0.9545 - val_loss: 0.0586 - val_accuracy: 0.9821\n",
            "Epoch 3/10\n",
            "117/117 [==============================] - 1s 7ms/step - loss: 0.0189 - accuracy: 0.9941 - val_loss: 0.0505 - val_accuracy: 0.9880\n",
            "Epoch 4/10\n",
            "117/117 [==============================] - 1s 7ms/step - loss: 0.0042 - accuracy: 0.9995 - val_loss: 0.0475 - val_accuracy: 0.9913\n",
            "Epoch 5/10\n",
            "117/117 [==============================] - 1s 7ms/step - loss: 0.0013 - accuracy: 1.0000 - val_loss: 0.0491 - val_accuracy: 0.9908\n",
            "Epoch 6/10\n",
            "117/117 [==============================] - 1s 7ms/step - loss: 6.2126e-04 - accuracy: 1.0000 - val_loss: 0.0500 - val_accuracy: 0.9924\n",
            "Epoch 7/10\n",
            "117/117 [==============================] - 1s 7ms/step - loss: 3.4367e-04 - accuracy: 1.0000 - val_loss: 0.0539 - val_accuracy: 0.9908\n",
            "Epoch 8/10\n",
            "117/117 [==============================] - 1s 7ms/step - loss: 2.2209e-04 - accuracy: 1.0000 - val_loss: 0.0537 - val_accuracy: 0.9918\n",
            "Epoch 9/10\n",
            "117/117 [==============================] - 1s 7ms/step - loss: 1.4890e-04 - accuracy: 1.0000 - val_loss: 0.0555 - val_accuracy: 0.9918\n",
            "Epoch 10/10\n",
            "117/117 [==============================] - 1s 7ms/step - loss: 1.1092e-04 - accuracy: 1.0000 - val_loss: 0.0560 - val_accuracy: 0.9918\n"
          ],
          "name": "stdout"
        }
      ]
    },
    {
      "cell_type": "code",
      "metadata": {
        "id": "Gv8K_OUzEwXF",
        "colab_type": "code",
        "colab": {
          "base_uri": "https://localhost:8080/",
          "height": 282
        },
        "outputId": "d483ad14-383c-46ac-a68b-50709bbd0289"
      },
      "source": [
        "#Plotting loss per iteration for CNN Model\n",
        "\n",
        "plt.plot(r2.history['loss'], label='loss')\n",
        "plt.plot(r2.history['val_loss'], label='val_loss')\n",
        "plt.legend()"
      ],
      "execution_count": 48,
      "outputs": [
        {
          "output_type": "execute_result",
          "data": {
            "text/plain": [
              "<matplotlib.legend.Legend at 0x7f10f4411be0>"
            ]
          },
          "metadata": {
            "tags": []
          },
          "execution_count": 48
        },
        {
          "output_type": "display_data",
          "data": {
            "image/png": "[encoded data removed]",
            "text/plain": [
              "<Figure size 432x288 with 1 Axes>"
            ]
          },
          "metadata": {
            "tags": [],
            "needs_background": "light"
          }
        }
      ]
    },
    {
      "cell_type": "code",
      "metadata": {
        "id": "Lo_CT7LJHHEl",
        "colab_type": "code",
        "colab": {
          "base_uri": "https://localhost:8080/",
          "height": 34
        },
        "outputId": "6a002bdd-550f-4827-a783-ef4b19f93011"
      },
      "source": [
        "y_predict=model_cnn.predict(data_test)\n",
        "y_predict=y_predict.flatten().round()\n",
        "y_predict.sum()"
      ],
      "execution_count": 125,
      "outputs": [
        {
          "output_type": "execute_result",
          "data": {
            "text/plain": [
              "236.0"
            ]
          },
          "metadata": {
            "tags": []
          },
          "execution_count": 125
        }
      ]
    },
    {
      "cell_type": "code",
      "metadata": {
        "id": "MEpCj-h0IV-c",
        "colab_type": "code",
        "colab": {
          "base_uri": "https://localhost:8080/",
          "height": 34
        },
        "outputId": "71cbc85b-d6d9-4e90-b137-4173a9e34db3"
      },
      "source": [
        "#misclassified IDX\n",
        "\n",
        "misclassified_idx=np.where(y_predict!=y_test)[0]\n",
        "#i=np.random.choice(misclassified_idx)\n",
        "#print('label for', (x_test[i])+' is : {}'.format(y_test[i])+' but predicted is : {}'.format(y_predict[i]))\n",
        "#print(i)\n",
        "misclassified_idx.shape"
      ],
      "execution_count": 126,
      "outputs": [
        {
          "output_type": "execute_result",
          "data": {
            "text/plain": [
              "(15,)"
            ]
          },
          "metadata": {
            "tags": []
          },
          "execution_count": 126
        }
      ]
    },
    {
      "cell_type": "code",
      "metadata": {
        "id": "TF8fT_JLOtU_",
        "colab_type": "code",
        "colab": {
          "base_uri": "https://localhost:8080/",
          "height": 51
        },
        "outputId": "0b6b0692-f512-4433-97b3-a48827f4a78a"
      },
      "source": [
        "#Printing confusion matrix\n",
        "from sklearn.metrics import confusion_matrix\n",
        "cm=confusion_matrix(y_test,y_predict)\n",
        "cm"
      ],
      "execution_count": 127,
      "outputs": [
        {
          "output_type": "execute_result",
          "data": {
            "text/plain": [
              "array([[1590,    2],\n",
              "       [  13,  234]])"
            ]
          },
          "metadata": {
            "tags": []
          },
          "execution_count": 127
        }
      ]
    },
    {
      "cell_type": "code",
      "metadata": {
        "id": "qTGsMLznR2yj",
        "colab_type": "code",
        "colab": {
          "base_uri": "https://localhost:8080/",
          "height": 34
        },
        "outputId": "95818a49-0e98-4447-b5e9-20bb611eb583"
      },
      "source": [
        "test_sentence=[]\n",
        "test_sentence.append(\"text your ID 987799 and get a chance to win free pass hurry up\")\n",
        "feed=pad_sequences(tokenizer.texts_to_sequences(test_sentence),maxlen=T)\n",
        "prediction=model.predict(feed).round()\n",
        "prediction\n",
        "\n"
      ],
      "execution_count": 167,
      "outputs": [
        {
          "output_type": "execute_result",
          "data": {
            "text/plain": [
              "array([[1.]], dtype=float32)"
            ]
          },
          "metadata": {
            "tags": []
          },
          "execution_count": 167
        }
      ]
    },
    {
      "cell_type": "code",
      "metadata": {
        "id": "lG1S0H9eV2Xd",
        "colab_type": "code",
        "colab": {
          "base_uri": "https://localhost:8080/",
          "height": 139
        },
        "outputId": "20be77f7-e8ef-4f7a-a6f6-5d28724021c8"
      },
      "source": [
        "X"
      ],
      "execution_count": 154,
      "outputs": [
        {
          "output_type": "execute_result",
          "data": {
            "text/plain": [
              "array(['Go until jurong point, crazy.. Available only in bugis n great world la e buffet... Cine there got amore wat...',\n",
              "       'Ok lar... Joking wif u oni...',\n",
              "       \"Free entry in 2 a wkly comp to win FA Cup final tkts 21st May 2005. Text FA to 87121 to receive entry question(std txt rate)T&C's apply 08452810075over18's\",\n",
              "       ..., 'Pity, * was in mood for that. So...any other suggestions?',\n",
              "       \"The guy did some bitching but I acted like i'd be interested in buying something else next week and he gave it to us for free\",\n",
              "       'Rofl. Its true to its name'], dtype=object)"
            ]
          },
          "metadata": {
            "tags": []
          },
          "execution_count": 154
        }
      ]
    }
  ]
}