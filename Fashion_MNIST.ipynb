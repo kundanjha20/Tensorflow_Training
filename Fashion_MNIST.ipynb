{
  "nbformat": 4,
  "nbformat_minor": 0,
  "metadata": {
    "colab": {
      "name": "Fashion_MNIST.ipynb",
      "provenance": [],
      "collapsed_sections": [],
      "authorship_tag": "ABX9TyPukHQK44SQnbrD3BHwvoRX",
      "include_colab_link": true
    },
    "kernelspec": {
      "name": "python3",
      "display_name": "Python 3"
    },
    "accelerator": "GPU"
  },
  "cells": [
    {
      "cell_type": "markdown",
      "metadata": {
        "id": "view-in-github",
        "colab_type": "text"
      },
      "source": [
        "<a href=\"https://colab.research.google.com/github/kundanjha20/Tensorflow_Training/blob/master/Fashion_MNIST.ipynb\" target=\"_parent\"><img src=\"https://colab.research.google.com/assets/colab-badge.svg\" alt=\"Open In Colab\"/></a>"
      ]
    },
    {
      "cell_type": "code",
      "metadata": {
        "id": "hpJwXki_giI8",
        "colab_type": "code",
        "colab": {}
      },
      "source": [
        "# Fashion MNIST\n"
      ],
      "execution_count": 0,
      "outputs": []
    },
    {
      "cell_type": "code",
      "metadata": {
        "id": "_i-t5B4ahRcn",
        "colab_type": "code",
        "colab": {
          "base_uri": "https://localhost:8080/",
          "height": 34
        },
        "outputId": "d2198be6-9493-4175-aeaa-8170d97d6db5"
      },
      "source": [
        "#importing required libraries\n",
        "import tensorflow as tf\n",
        "tf.__version__"
      ],
      "execution_count": 2,
      "outputs": [
        {
          "output_type": "execute_result",
          "data": {
            "text/plain": [
              "'2.2.0'"
            ]
          },
          "metadata": {
            "tags": []
          },
          "execution_count": 2
        }
      ]
    },
    {
      "cell_type": "code",
      "metadata": {
        "id": "Dm6D0U62heEU",
        "colab_type": "code",
        "colab": {}
      },
      "source": [
        "import matplotlib.pyplot as plt\n",
        "import numpy as np\n",
        "from tensorflow.keras.layers import Input, Dense, Conv2D, Flatten, Dropout\n",
        "from tensorflow.keras.models import Model"
      ],
      "execution_count": 0,
      "outputs": []
    },
    {
      "cell_type": "code",
      "metadata": {
        "id": "gGQKffvEh_f8",
        "colab_type": "code",
        "colab": {
          "base_uri": "https://localhost:8080/",
          "height": 34
        },
        "outputId": "78500b99-4332-4bcc-de9c-2c545c0c0aa8"
      },
      "source": [
        "fashion_mnist=tf.keras.datasets.fashion_mnist\n",
        "(x_train, y_train),(x_test,y_test)=fashion_mnist.load_data()\n",
        "x_train, x_test = x_train/255.0, x_test/255.0\n",
        "print(x_train.shape)"
      ],
      "execution_count": 11,
      "outputs": [
        {
          "output_type": "stream",
          "text": [
            "(60000, 28, 28)\n"
          ],
          "name": "stdout"
        }
      ]
    },
    {
      "cell_type": "code",
      "metadata": {
        "id": "a5Df5rOvjDpc",
        "colab_type": "code",
        "colab": {
          "base_uri": "https://localhost:8080/",
          "height": 34
        },
        "outputId": "22907e9b-c9ef-412a-cbd3-ece2bdbfc517"
      },
      "source": [
        "#convolution requires data in height x width x color but we have only 2D data so coverting dimension\n",
        "x_train=np.expand_dims(x_train,-1)\n",
        "x_test=np.expand_dims(x_test,-1)\n",
        "print(x_train.shape)"
      ],
      "execution_count": 12,
      "outputs": [
        {
          "output_type": "stream",
          "text": [
            "(60000, 28, 28, 1)\n"
          ],
          "name": "stdout"
        }
      ]
    },
    {
      "cell_type": "code",
      "metadata": {
        "id": "BiwXgUPdj1Ha",
        "colab_type": "code",
        "colab": {
          "base_uri": "https://localhost:8080/",
          "height": 34
        },
        "outputId": "c329f5b2-0911-4ff1-fbcc-c9714fb851a8"
      },
      "source": [
        "#Getting number of classes\n",
        "K= len(set(y_train))\n",
        "print(K)  #Total 10 classes we have"
      ],
      "execution_count": 13,
      "outputs": [
        {
          "output_type": "stream",
          "text": [
            "10\n"
          ],
          "name": "stdout"
        }
      ]
    },
    {
      "cell_type": "code",
      "metadata": {
        "id": "g-dN2fAHj98q",
        "colab_type": "code",
        "colab": {}
      },
      "source": [
        "#Build the model using functional API\n",
        "\n",
        "#Starting Convolution Section\n",
        "i = Input(shape=x_train[0].shape)\n",
        "x=Conv2D(32,(3,3),strides=2,activation='relu')(i)\n",
        "x=Conv2D(64,(3,3),strides=2, activation='relu')(x)\n",
        "x=Conv2D(128,(3,3),strides=2, activation='relu')(x)\n",
        "x=Flatten()(x)\n",
        "\n",
        "#Starting Neural Network\n",
        "x=Dropout(0.2)(x)\n",
        "x=Dense(512,activation='relu')(x)\n",
        "x=Dropout(0.2)(x)\n",
        "x=Dense(K,activation='softmax')(x)\n"
      ],
      "execution_count": 0,
      "outputs": []
    },
    {
      "cell_type": "code",
      "metadata": {
        "id": "xo858CLDlz-o",
        "colab_type": "code",
        "colab": {
          "base_uri": "https://localhost:8080/",
          "height": 527
        },
        "outputId": "e1fda04c-5903-44c0-909c-f59c69682457"
      },
      "source": [
        "#Building the model\n",
        "model=Model(i,x)\n",
        "# Compile and fit\n",
        "model.compile(optimizer='adam', loss='sparse_categorical_crossentropy', metrics=['accuracy'])\n",
        "Classifier=model.fit(x_train,y_train,validation_data=(x_test,y_test),epochs=15)"
      ],
      "execution_count": 22,
      "outputs": [
        {
          "output_type": "stream",
          "text": [
            "Epoch 1/15\n",
            "1875/1875 [==============================] - 10s 5ms/step - loss: 0.5202 - accuracy: 0.8067 - val_loss: 0.3927 - val_accuracy: 0.8477\n",
            "Epoch 2/15\n",
            "1875/1875 [==============================] - 10s 5ms/step - loss: 0.3546 - accuracy: 0.8669 - val_loss: 0.3428 - val_accuracy: 0.8689\n",
            "Epoch 3/15\n",
            "1875/1875 [==============================] - 10s 5ms/step - loss: 0.3054 - accuracy: 0.8854 - val_loss: 0.3246 - val_accuracy: 0.8817\n",
            "Epoch 4/15\n",
            "1875/1875 [==============================] - 10s 5ms/step - loss: 0.2770 - accuracy: 0.8946 - val_loss: 0.3071 - val_accuracy: 0.8898\n",
            "Epoch 5/15\n",
            "1875/1875 [==============================] - 10s 5ms/step - loss: 0.2486 - accuracy: 0.9056 - val_loss: 0.3058 - val_accuracy: 0.8914\n",
            "Epoch 6/15\n",
            "1875/1875 [==============================] - 10s 5ms/step - loss: 0.2316 - accuracy: 0.9127 - val_loss: 0.2973 - val_accuracy: 0.8931\n",
            "Epoch 7/15\n",
            "1875/1875 [==============================] - 10s 5ms/step - loss: 0.2108 - accuracy: 0.9198 - val_loss: 0.2845 - val_accuracy: 0.9025\n",
            "Epoch 8/15\n",
            "1875/1875 [==============================] - 10s 5ms/step - loss: 0.1951 - accuracy: 0.9258 - val_loss: 0.3058 - val_accuracy: 0.8984\n",
            "Epoch 9/15\n",
            "1875/1875 [==============================] - 10s 6ms/step - loss: 0.1816 - accuracy: 0.9293 - val_loss: 0.3123 - val_accuracy: 0.8969\n",
            "Epoch 10/15\n",
            "1875/1875 [==============================] - 10s 5ms/step - loss: 0.1700 - accuracy: 0.9348 - val_loss: 0.3110 - val_accuracy: 0.9014\n",
            "Epoch 11/15\n",
            "1875/1875 [==============================] - 10s 5ms/step - loss: 0.1607 - accuracy: 0.9381 - val_loss: 0.3108 - val_accuracy: 0.9030\n",
            "Epoch 12/15\n",
            "1875/1875 [==============================] - 10s 5ms/step - loss: 0.1493 - accuracy: 0.9426 - val_loss: 0.3131 - val_accuracy: 0.9009\n",
            "Epoch 13/15\n",
            "1875/1875 [==============================] - 10s 5ms/step - loss: 0.1417 - accuracy: 0.9461 - val_loss: 0.3325 - val_accuracy: 0.9031\n",
            "Epoch 14/15\n",
            "1875/1875 [==============================] - 10s 5ms/step - loss: 0.1337 - accuracy: 0.9491 - val_loss: 0.3513 - val_accuracy: 0.9044\n",
            "Epoch 15/15\n",
            "1875/1875 [==============================] - 10s 5ms/step - loss: 0.1292 - accuracy: 0.9518 - val_loss: 0.3669 - val_accuracy: 0.9002\n"
          ],
          "name": "stdout"
        }
      ]
    },
    {
      "cell_type": "code",
      "metadata": {
        "id": "BO4W4_wBnhON",
        "colab_type": "code",
        "colab": {
          "base_uri": "https://localhost:8080/",
          "height": 282
        },
        "outputId": "0979f484-2371-4601-bc13-1546323e59f6"
      },
      "source": [
        "#Plotting loss per iteration\n",
        "plt.plot(Classifier.history['loss'],label='Loss')\n",
        "plt.plot(Classifier.history['val_loss'], label='validation_loss')\n",
        "plt.legend()"
      ],
      "execution_count": 23,
      "outputs": [
        {
          "output_type": "execute_result",
          "data": {
            "text/plain": [
              "<matplotlib.legend.Legend at 0x7f21a79bc2b0>"
            ]
          },
          "metadata": {
            "tags": []
          },
          "execution_count": 23
        },
        {
          "output_type": "display_data",
          "data": {
            "image/png": "[encoded data removed]",
            "text/plain": [
              "<Figure size 432x288 with 1 Axes>"
            ]
          },
          "metadata": {
            "tags": [],
            "needs_background": "light"
          }
        }
      ]
    },
    {
      "cell_type": "code",
      "metadata": {
        "id": "0utEUcpzpzy4",
        "colab_type": "code",
        "colab": {
          "base_uri": "https://localhost:8080/",
          "height": 282
        },
        "outputId": "fc0b4c17-9398-44ab-d7c2-df2fc11ee749"
      },
      "source": [
        "#Plotting Accuracy per iteration\n",
        "plt.plot(Classifier.history['accuracy'], label='accuracy')\n",
        "plt.plot(Classifier.history['val_accuracy'], label='Validation accuracy')\n",
        "plt.legend()"
      ],
      "execution_count": 24,
      "outputs": [
        {
          "output_type": "execute_result",
          "data": {
            "text/plain": [
              "<matplotlib.legend.Legend at 0x7f21a795c3c8>"
            ]
          },
          "metadata": {
            "tags": []
          },
          "execution_count": 24
        },
        {
          "output_type": "display_data",
          "data": {
            "image/png": "[encoded data removed]",
            "text/plain": [
              "<Figure size 432x288 with 1 Axes>"
            ]
          },
          "metadata": {
            "tags": [],
            "needs_background": "light"
          }
        }
      ]
    },
    {
      "cell_type": "code",
      "metadata": {
        "id": "h1lxec-yqM_L",
        "colab_type": "code",
        "colab": {
          "base_uri": "https://localhost:8080/",
          "height": 454
        },
        "outputId": "6a8ce588-8e3f-4d3b-e27a-174ff56ece49"
      },
      "source": [
        "#Plotting the conusion metrics\n",
        "\n",
        "from sklearn.metrics import confusion_matrix\n",
        "import itertools\n",
        "\n",
        "def plot_confusion_matrix(cm,classes,normalize=False,titile='confusion_matrix', cmap=plt.cm.Blues):\n",
        "  if normalize:\n",
        "    cm=cm.astype('float')/cm.sum(axis=1)[:np.newaxis]\n",
        "    print('Normalized Confusion matrix')\n",
        "  else:\n",
        "    print('Confusion matrix without normalization')\n",
        "  print(cm)\n",
        "  plt.imshow(cm, interpolation='nearest',cmap=cmap)\n",
        "  plt.colorbar()\n",
        "  tick_marks=np.arange(len(classes))\n",
        "  plt.xticks(tick_marks,classes,rotation=45)\n",
        "  plt.yticks(tick_marks,classes)\n",
        "\n",
        "p_test=model.predict(x_test).argmax(axis=1)\n",
        "cm=confusion_matrix(y_test,p_test)\n",
        "plot_confusion_matrix(cm,list(range(10)))\n",
        "  "
      ],
      "execution_count": 38,
      "outputs": [
        {
          "output_type": "stream",
          "text": [
            "Confusion matrix without normalization\n",
            "[[887   3  25  26   1   1  47   0  10   0]\n",
            " [  3 982   0  11   2   0   1   0   1   0]\n",
            " [ 21   0 880  10  38   0  49   0   2   0]\n",
            " [ 12   8  18 916  18   0  27   0   1   0]\n",
            " [  0   1  86  34 798   0  81   0   0   0]\n",
            " [  0   0   0   2   0 973   0  17   0   8]\n",
            " [137   4  88  29  74   1 656   0  11   0]\n",
            " [  0   0   0   0   0   2   0 988   0  10]\n",
            " [  4   0   7   4   2   2   2   4 975   0]\n",
            " [  1   0   0   0   0   5   0  46   1 947]]\n"
          ],
          "name": "stdout"
        },
        {
          "output_type": "display_data",
          "data": {
            "image/png": "[encoded data removed]",
            "text/plain": [
              "<Figure size 432x288 with 2 Axes>"
            ]
          },
          "metadata": {
            "tags": [],
            "needs_background": "light"
          }
        }
      ]
    },
    {
      "cell_type": "code",
      "metadata": {
        "id": "Bjr6y9QetVmT",
        "colab_type": "code",
        "colab": {
          "base_uri": "https://localhost:8080/",
          "height": 281
        },
        "outputId": "718e7c43-f557-4193-a2a5-105d1402c0b1"
      },
      "source": [
        "#label mapping\n",
        "labels='T-shirt/top Trouser Pullover Dress Coat Sandal Shirt Sneakers Bag Ankle_boat'.split()\n",
        "\n",
        "  #Showing misclassified Example\n",
        "Misclassified_idx=np.where(p_test!=y_test)[0]\n",
        "i=np.random.choice(Misclassified_idx)\n",
        "plt.imshow(x_test[i].reshape(28,28),cmap='gray')\n",
        "plt.title('True label: %s Predicted: %s' %(labels[y_test[i]], labels[p_test[i]]));"
      ],
      "execution_count": 43,
      "outputs": [
        {
          "output_type": "display_data",
          "data": {
            "image/png": "[encoded data removed]",
            "text/plain": [
              "<Figure size 432x288 with 1 Axes>"
            ]
          },
          "metadata": {
            "tags": [],
            "needs_background": "light"
          }
        }
      ]
    },
    {
      "cell_type": "code",
      "metadata": {
        "id": "YlbUztgww1hX",
        "colab_type": "code",
        "colab": {}
      },
      "source": [
        "#Saving model\n",
        "model.save('Fashion_Mnist.h5')\n"
      ],
      "execution_count": 0,
      "outputs": []
    },
    {
      "cell_type": "code",
      "metadata": {
        "id": "0H3kPTTYxKb-",
        "colab_type": "code",
        "colab": {
          "base_uri": "https://localhost:8080/",
          "height": 34
        },
        "outputId": "92b36395-8659-418f-f3eb-126e942b7902"
      },
      "source": [
        "import os\n",
        "os.listdir()"
      ],
      "execution_count": 42,
      "outputs": [
        {
          "output_type": "execute_result",
          "data": {
            "text/plain": [
              "['.config', 'Fashion_Mnist.h5', 'sample_data']"
            ]
          },
          "metadata": {
            "tags": []
          },
          "execution_count": 42
        }
      ]
    }
  ]
}