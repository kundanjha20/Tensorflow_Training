{
  "nbformat": 4,
  "nbformat_minor": 0,
  "metadata": {
    "colab": {
      "name": "CIFAR-10.ipynb",
      "provenance": [],
      "authorship_tag": "ABX9TyMuxs3nh0VZDrWRpHYnAXha"
    },
    "kernelspec": {
      "name": "python3",
      "display_name": "Python 3"
    },
    "accelerator": "GPU"
  },
  "cells": [
    {
      "cell_type": "markdown",
      "metadata": {
        "id": "YBhoph9y3e_c",
        "colab_type": "text"
      },
      "source": [
        "CNN For CIFAR 10"
      ]
    },
    {
      "cell_type": "code",
      "metadata": {
        "id": "3ZK_F-NC3ini",
        "colab_type": "code",
        "colab": {}
      },
      "source": [
        "# Including all required libraries\n",
        "import tensorflow as tf\n",
        "from tensorflow.keras.layers import Input, Dense, Conv2D, Flatten, Dropout, GlobalMaxPooling2D\n",
        "from tensorflow.keras.models import Model\n",
        "import numpy as np\n",
        "import matplotlib.pyplot as plt"
      ],
      "execution_count": 0,
      "outputs": []
    },
    {
      "cell_type": "code",
      "metadata": {
        "id": "cGiUwJnP4KL6",
        "colab_type": "code",
        "colab": {
          "base_uri": "https://localhost:8080/",
          "height": 85
        },
        "outputId": "140fe193-99b8-4d37-9eac-1e59f9565e97"
      },
      "source": [
        "#importing dataset\n",
        "cifar10=tf.keras.datasets.cifar10\n",
        "(x_train,y_train),(x_test,y_test)=cifar10.load_data()\n",
        "x_train,x_test=x_train/255.0,x_test/255.0\n",
        "y_train,y_test=y_train.flatten(),y_test.flatten()\n",
        "print(x_train.shape);print(y_train.shape)"
      ],
      "execution_count": 3,
      "outputs": [
        {
          "output_type": "stream",
          "text": [
            "Downloading data from https://www.cs.toronto.edu/~kriz/cifar-10-python.tar.gz\n",
            "170500096/170498071 [==============================] - 6s 0us/step\n",
            "(50000, 32, 32, 3)\n",
            "(50000,)\n"
          ],
          "name": "stdout"
        }
      ]
    },
    {
      "cell_type": "code",
      "metadata": {
        "id": "2-1pawfo42I8",
        "colab_type": "code",
        "colab": {
          "base_uri": "https://localhost:8080/",
          "height": 34
        },
        "outputId": "6521645f-43c9-43e6-c6ec-06eb3901c905"
      },
      "source": [
        "#Getting number of classes\n",
        "K=len(set(y_train))\n",
        "print(\"no. of classes :\", K)"
      ],
      "execution_count": 4,
      "outputs": [
        {
          "output_type": "stream",
          "text": [
            "no. of classes : 10\n"
          ],
          "name": "stdout"
        }
      ]
    },
    {
      "cell_type": "code",
      "metadata": {
        "id": "mGxZucUu5A-b",
        "colab_type": "code",
        "colab": {
          "base_uri": "https://localhost:8080/",
          "height": 547
        },
        "outputId": "5de66f11-03b4-4fa1-af2b-26ac749739ff"
      },
      "source": [
        "#Building the model using functional API\n",
        "#Doing Convolutional Section\n",
        "i=Input(shape=x_train[0].shape)\n",
        "x=Conv2D(32,(3,3),strides=2, activation='relu')(i)\n",
        "x=Conv2D(64,(3,3),strides=2,activation='relu')(x)\n",
        "x=Conv2D(128,(3,3),strides=2,activation='relu')(x)\n",
        "x=Flatten()(x)\n",
        "x=Dropout(0.5)(x)\n",
        "#Doing the Neural network part\n",
        "x=Dense(1024,activation='relu')(x)\n",
        "x=Dropout(0.2)(x)\n",
        "x=Dense(K,activation='softmax')(x)\n",
        "\n",
        "#Specifying the model\n",
        "model=Model(i,x)\n",
        "\n",
        "#Specifying loss function and optimizer\n",
        "model.compile(optimizer='adam',loss='sparse_categorical_crossentropy', metrics=['accuracy'])\n",
        "\n",
        "#Training the model\n",
        "Classifier=model.fit(x_train,y_train,validation_data=(x_test,y_test),epochs=15)"
      ],
      "execution_count": 5,
      "outputs": [
        {
          "output_type": "stream",
          "text": [
            "Epoch 1/15\n",
            "1563/1563 [==============================] - 6s 4ms/step - loss: 1.6001 - accuracy: 0.4149 - val_loss: 1.3220 - val_accuracy: 0.5135\n",
            "Epoch 2/15\n",
            "1563/1563 [==============================] - 5s 3ms/step - loss: 1.3117 - accuracy: 0.5261 - val_loss: 1.1845 - val_accuracy: 0.5727\n",
            "Epoch 3/15\n",
            "1563/1563 [==============================] - 5s 3ms/step - loss: 1.1861 - accuracy: 0.5751 - val_loss: 1.0921 - val_accuracy: 0.6062\n",
            "Epoch 4/15\n",
            "1563/1563 [==============================] - 5s 3ms/step - loss: 1.0977 - accuracy: 0.6069 - val_loss: 1.0203 - val_accuracy: 0.6442\n",
            "Epoch 5/15\n",
            "1563/1563 [==============================] - 5s 3ms/step - loss: 1.0258 - accuracy: 0.6332 - val_loss: 0.9903 - val_accuracy: 0.6450\n",
            "Epoch 6/15\n",
            "1563/1563 [==============================] - 6s 4ms/step - loss: 0.9604 - accuracy: 0.6601 - val_loss: 0.9779 - val_accuracy: 0.6528\n",
            "Epoch 7/15\n",
            "1563/1563 [==============================] - 6s 4ms/step - loss: 0.9126 - accuracy: 0.6752 - val_loss: 0.9218 - val_accuracy: 0.6813\n",
            "Epoch 8/15\n",
            "1563/1563 [==============================] - 5s 3ms/step - loss: 0.8645 - accuracy: 0.6924 - val_loss: 0.8693 - val_accuracy: 0.7005\n",
            "Epoch 9/15\n",
            "1563/1563 [==============================] - 5s 3ms/step - loss: 0.8203 - accuracy: 0.7088 - val_loss: 0.9144 - val_accuracy: 0.6748\n",
            "Epoch 10/15\n",
            "1563/1563 [==============================] - 5s 3ms/step - loss: 0.7870 - accuracy: 0.7219 - val_loss: 0.8715 - val_accuracy: 0.6983\n",
            "Epoch 11/15\n",
            "1563/1563 [==============================] - 5s 3ms/step - loss: 0.7503 - accuracy: 0.7310 - val_loss: 0.8383 - val_accuracy: 0.7069\n",
            "Epoch 12/15\n",
            "1563/1563 [==============================] - 5s 3ms/step - loss: 0.7239 - accuracy: 0.7415 - val_loss: 0.8572 - val_accuracy: 0.7052\n",
            "Epoch 13/15\n",
            "1563/1563 [==============================] - 5s 3ms/step - loss: 0.7002 - accuracy: 0.7512 - val_loss: 0.8253 - val_accuracy: 0.7151\n",
            "Epoch 14/15\n",
            "1563/1563 [==============================] - 5s 4ms/step - loss: 0.6784 - accuracy: 0.7574 - val_loss: 0.8304 - val_accuracy: 0.7155\n",
            "Epoch 15/15\n",
            "1563/1563 [==============================] - 5s 3ms/step - loss: 0.6597 - accuracy: 0.7653 - val_loss: 0.8228 - val_accuracy: 0.7200\n"
          ],
          "name": "stdout"
        }
      ]
    },
    {
      "cell_type": "code",
      "metadata": {
        "id": "64DBYFfm-jAv",
        "colab_type": "code",
        "colab": {
          "base_uri": "https://localhost:8080/",
          "height": 282
        },
        "outputId": "666fe4b6-bba0-4126-c038-29f6aa4de050"
      },
      "source": [
        "#Plotting loss per iteration\n",
        "plt.plot(Classifier.history['loss'], label='loss')\n",
        "plt.plot(Classifier.history['val_loss'], label='Validation loss')\n",
        "plt.legend()"
      ],
      "execution_count": 6,
      "outputs": [
        {
          "output_type": "execute_result",
          "data": {
            "text/plain": [
              "<matplotlib.legend.Legend at 0x7fcaafe4eef0>"
            ]
          },
          "metadata": {
            "tags": []
          },
          "execution_count": 6
        },
        {
          "output_type": "display_data",
          "data": {
            "image/png": "[encoded data removed]",
            "text/plain": [
              "<Figure size 432x288 with 1 Axes>"
            ]
          },
          "metadata": {
            "tags": [],
            "needs_background": "light"
          }
        }
      ]
    },
    {
      "cell_type": "code",
      "metadata": {
        "id": "URFarIvE-61y",
        "colab_type": "code",
        "colab": {
          "base_uri": "https://localhost:8080/",
          "height": 470
        },
        "outputId": "18ceb50c-7b94-489d-f43f-86129c06f543"
      },
      "source": [
        "#Showing Confusion Matrix\n",
        "from sklearn.metrics import confusion_matrix\n",
        "\n",
        "def plot_confusion_matrix(cm,classes, normalize=False, title='Confusion - Matrix', cmap=plt.cm.Blues):\n",
        "  if normalize:\n",
        "    cm=cm.astype('float')/cm.sum(axis=1)[:np.newaxis]\n",
        "    print(\"Normalized Confusion matrix :\")\n",
        "  else:\n",
        "    print(\"Confusion Matrix without Normalization: \")\n",
        "  print(cm)\n",
        "\n",
        "  plt.imshow(cm, interpolation='nearest',cmap=cmap)\n",
        "  plt.title(title)\n",
        "  tick_marks=np.arange(len(classes))\n",
        "  plt.xticks(tick_marks, classes, rotation=45)\n",
        "  plt.yticks(tick_marks,classes)\n",
        "\n",
        "\n",
        "p_test=model.predict(x_test).argmax(axis=1)\n",
        "cm=confusion_matrix(y_test,p_test)\n",
        "plot_confusion_matrix(cm,list(range(K)))"
      ],
      "execution_count": 7,
      "outputs": [
        {
          "output_type": "stream",
          "text": [
            "Confusion Matrix without Normalization: \n",
            "[[771  12  46  18  24   5  12  18  61  33]\n",
            " [ 21 793   6   7   3   6   7   3  36 118]\n",
            " [ 57  10 583  70 109  44  68  35  20   4]\n",
            " [ 19   8  58 559  82 136  71  33  15  19]\n",
            " [ 25   3  54  61 682  34  48  77  12   4]\n",
            " [ 11   3  40 224  63 561  26  51  12   9]\n",
            " [  7   5  29  56  48  23 812   7   9   4]\n",
            " [ 17   4  23  34  63  49   7 785   5  13]\n",
            " [ 68  21   9  13  16   5   4   3 844  17]\n",
            " [ 39  54  12  14  11   4   8  10  38 810]]\n"
          ],
          "name": "stdout"
        },
        {
          "output_type": "display_data",
          "data": {
            "image/png": "[encoded data removed]",
            "text/plain": [
              "<Figure size 432x288 with 1 Axes>"
            ]
          },
          "metadata": {
            "tags": [],
            "needs_background": "light"
          }
        }
      ]
    },
    {
      "cell_type": "code",
      "metadata": {
        "id": "xenKOjknBIiy",
        "colab_type": "code",
        "colab": {
          "base_uri": "https://localhost:8080/",
          "height": 283
        },
        "outputId": "10c5cf70-bb97-4896-a3c0-2f9455fb3d0b"
      },
      "source": [
        "#Showing Misclassified Idx\n",
        "misclassified_Idx=np.where([p_test!=y_test])[1]\n",
        "i=np.random.choice(misclassified_Idx)\n",
        "plt.imshow(x_test[i].reshape(32,32,3))"
      ],
      "execution_count": 29,
      "outputs": [
        {
          "output_type": "execute_result",
          "data": {
            "text/plain": [
              "<matplotlib.image.AxesImage at 0x7fca88d132e8>"
            ]
          },
          "metadata": {
            "tags": []
          },
          "execution_count": 29
        },
        {
          "output_type": "display_data",
          "data": {
            "image/png": "[encoded data removed]",
            "text/plain": [
              "<Figure size 432x288 with 1 Axes>"
            ]
          },
          "metadata": {
            "tags": [],
            "needs_background": "light"
          }
        }
      ]
    },
    {
      "cell_type": "code",
      "metadata": {
        "id": "AndVs3ooeWU4",
        "colab_type": "code",
        "colab": {
          "base_uri": "https://localhost:8080/",
          "height": 34
        },
        "outputId": "1fdc5c40-2de6-4052-a30b-61385d1ebc0b"
      },
      "source": [
        "#Saving the model\n",
        "model.save('CIFAR-10.h5')\n",
        "\n",
        "import os\n",
        "os.listdir()"
      ],
      "execution_count": 31,
      "outputs": [
        {
          "output_type": "execute_result",
          "data": {
            "text/plain": [
              "['.config', 'CIFAR-10.h5', 'sample_data']"
            ]
          },
          "metadata": {
            "tags": []
          },
          "execution_count": 31
        }
      ]
    }
  ]
}